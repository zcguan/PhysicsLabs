{
 "cells": [
  {
   "cell_type": "code",
   "execution_count": 1,
   "metadata": {},
   "outputs": [],
   "source": [
    "import numpy as np\n",
    "import matplotlib.pyplot as plt"
   ]
  },
  {
   "cell_type": "code",
   "execution_count": 2,
   "metadata": {},
   "outputs": [],
   "source": [
    "#Data\n",
    "red_1    = [1.305, 1.305, 1.305]\n",
    "red_2    = [1.287, 1.281, 1.278]\n",
    "red_3    = [1.277, 1.271, 1.280]\n",
    "\n",
    "yellow_1 = [1.376, 1.392, 1.375]\n",
    "yellow_2 = [1.367, 1.377, 1.360]\n",
    "yellow_3 = [1.398, 1.432, 1.410]\n",
    "\n",
    "green_1  = [1.705, 1.693, 1.710]\n",
    "green_2  = [1.854, 1.863, 1.849]\n",
    "green_3  = [1.861, 1.851, 1.844]\n",
    "\n",
    "UV_1     = [2.347, 2.309, 2.354]\n",
    "UV_2     = [2.499, 2.500, 2.499]\n",
    "UV_3     = [2.482, 2.477, 2.501]\n",
    "\n",
    "red = red_1 + red_2 + red_3\n",
    "yellow = yellow_1 + yellow_2 + yellow_3\n",
    "green = green_1 + green_2 + green_3\n",
    "UV = UV_1 + UV_2 + UV_3"
   ]
  },
  {
   "cell_type": "markdown",
   "metadata": {},
   "source": [
    "# Non-Weighted Mean"
   ]
  },
  {
   "cell_type": "code",
   "execution_count": 3,
   "metadata": {},
   "outputs": [
    {
     "name": "stdout",
     "output_type": "stream",
     "text": [
      "1.2876666666666667 0.004288946459026394\n"
     ]
    }
   ],
   "source": [
    "#Red\n",
    "avr_red = np.average (red)\n",
    "err_red = np.std(red)/3\n",
    "print (avr_red, err_red)"
   ]
  },
  {
   "cell_type": "code",
   "execution_count": 4,
   "metadata": {},
   "outputs": [
    {
     "name": "stdout",
     "output_type": "stream",
     "text": [
      "1.3874444444444445 0.007194152479894896\n"
     ]
    }
   ],
   "source": [
    "#Yellow\n",
    "avr_yellow = np.average (yellow)\n",
    "err_yellow = np.std(yellow)/3\n",
    "print (avr_yellow, err_yellow)"
   ]
  },
  {
   "cell_type": "code",
   "execution_count": 5,
   "metadata": {},
   "outputs": [
    {
     "name": "stdout",
     "output_type": "stream",
     "text": [
      "1.8033333333333335 0.02383534050082195\n"
     ]
    }
   ],
   "source": [
    "#Green\n",
    "avr_green = np.average (green)\n",
    "err_green = np.std(green)/3\n",
    "print (avr_green, err_green)"
   ]
  },
  {
   "cell_type": "code",
   "execution_count": 6,
   "metadata": {},
   "outputs": [
    {
     "name": "stdout",
     "output_type": "stream",
     "text": [
      "2.440888888888889 0.024997503304685528\n"
     ]
    }
   ],
   "source": [
    "#UV\n",
    "avr_UV = np.average (UV)\n",
    "err_UV = np.std(UV)/3\n",
    "print (avr_UV, err_UV)"
   ]
  },
  {
   "cell_type": "markdown",
   "metadata": {},
   "source": [
    "# Weighted Mean"
   ]
  },
  {
   "cell_type": "code",
   "execution_count": 7,
   "metadata": {},
   "outputs": [],
   "source": [
    "def weighted_mean (rounded_data, rounded_error):\n",
    "    weights = []\n",
    "    wx = []\n",
    "    for x in rounded_error:\n",
    "        weights.append(1/x**2)\n",
    "    for i in range(len(rounded_data)):\n",
    "        wx.append (weights[i] * rounded_data[i])\n",
    "    mean = sum (wx)/sum(weights)\n",
    "    error = np.sqrt(1/sum(weights))\n",
    "    return mean, np.sqrt(0.001**2+error**2)"
   ]
  },
  {
   "cell_type": "code",
   "execution_count": 15,
   "metadata": {},
   "outputs": [
    {
     "name": "stdout",
     "output_type": "stream",
     "text": [
      "1.305 0.001\n",
      "1.2819999999999998 0.002380476142847598\n",
      "1.276 0.0023804761428476394\n"
     ]
    }
   ],
   "source": [
    "#Red\n",
    "red_total = []\n",
    "err_red_total = []\n",
    "\n",
    "avr_red_1 = np.average(red_1)\n",
    "err_red_1 = np.std(red_1)/np.sqrt(3)\n",
    "print (avr_red_1, np.sqrt(err_red_1**2+0.001**2))\n",
    "red_total.append(1.305)\n",
    "err_red_total.append (0.001)\n",
    "\n",
    "avr_red_2 = np.average(red_2)\n",
    "err_red_2 = np.std(red_2)/np.sqrt(3)\n",
    "print (avr_red_2, np.sqrt(err_red_2**2+0.001**2))\n",
    "red_total.append(1.282)\n",
    "err_red_total.append (0.002)\n",
    "\n",
    "avr_red_3 = np.average(red_3)\n",
    "err_red_3 = np.std(red_3)/np.sqrt(3)\n",
    "print (avr_red_3, np.sqrt(err_red_3**2+0.001**2))\n",
    "red_total.append(1.276)\n",
    "err_red_total.append (0.002)\n",
    "\n",
    "rd=weighted_mean (red_total, err_red_total)"
   ]
  },
  {
   "cell_type": "code",
   "execution_count": 14,
   "metadata": {},
   "outputs": [
    {
     "name": "stdout",
     "output_type": "stream",
     "text": [
      "1.381 0.00460675832036174\n",
      "1.368 0.004149966532662891\n",
      "1.4133333333333333 0.008189876316164621\n"
     ]
    }
   ],
   "source": [
    "#Yellow\n",
    "yellow_total = []\n",
    "err_yellow_total = []\n",
    "\n",
    "avr_yellow_1 = np.average(yellow_1)\n",
    "err_yellow_1 = np.std(yellow_1)/np.sqrt(3)\n",
    "print (avr_yellow_1, np.sqrt(err_yellow_1**2+0.001**2))\n",
    "yellow_total.append(1.381)\n",
    "err_yellow_total.append (0.005)\n",
    "\n",
    "avr_yellow_2 = np.average(yellow_2)\n",
    "err_yellow_2 = np.std(yellow_2)/np.sqrt(3)\n",
    "print (avr_yellow_2, np.sqrt(err_yellow_2**2+0.001**2))\n",
    "yellow_total.append(1.368)\n",
    "err_yellow_total.append (0.004)\n",
    "\n",
    "avr_yellow_3 = np.average(yellow_3)\n",
    "err_yellow_3 = np.std(yellow_3)/np.sqrt(3)\n",
    "print (avr_yellow_3, np.sqrt(err_yellow_3**2+0.001**2))\n",
    "yellow_total.append(1.413)\n",
    "err_yellow_total.append (0.008)\n",
    "\n",
    "yl=weighted_mean (yellow_total, err_yellow_total)"
   ]
  },
  {
   "cell_type": "code",
   "execution_count": 16,
   "metadata": {},
   "outputs": [
    {
     "name": "stdout",
     "output_type": "stream",
     "text": [
      "1.7026666666666668 0.004238273582835682\n",
      "1.8553333333333333 0.003490728460534445\n",
      "1.852 0.004149966532662891\n"
     ]
    }
   ],
   "source": [
    "#Green\n",
    "green_total = []\n",
    "err_green_total = []\n",
    "\n",
    "avr_green_1 = np.average(green_1)\n",
    "err_green_1 = np.std(green_1)/np.sqrt(3)\n",
    "print (avr_green_1, np.sqrt(err_green_1**2+0.001**2))\n",
    "green_total.append(1.703)\n",
    "err_green_total.append (0.004)\n",
    "\n",
    "avr_green_2 = np.average(green_2)\n",
    "err_green_2 = np.std(green_2)/np.sqrt(3)\n",
    "print (avr_green_2, np.sqrt(err_green_2**2+0.001**2))\n",
    "green_total.append(1.855)\n",
    "err_green_total.append (0.003)\n",
    "\n",
    "avr_green_3 = np.average(green_3)\n",
    "err_green_3 = np.std(green_3)/np.sqrt(3)\n",
    "print (avr_green_3, np.sqrt(err_green_3**2+0.001**2))\n",
    "green_total.append(1.852)\n",
    "err_green_total.append (0.004)\n",
    "\n",
    "gr=weighted_mean (green_total, err_green_total)"
   ]
  },
  {
   "cell_type": "code",
   "execution_count": 62,
   "metadata": {},
   "outputs": [
    {
     "name": "stdout",
     "output_type": "stream",
     "text": [
      "2.336666666666667 0.011458459595263912\n",
      "2.499333333333334 0.001036375450343194\n",
      "2.4866666666666664 0.0060522417028427864\n"
     ]
    }
   ],
   "source": [
    "#UV\n",
    "UV_total = []\n",
    "err_UV_total = []\n",
    "\n",
    "avr_UV_1 = np.average(UV_1)\n",
    "err_UV_1 = np.std(UV_1)/np.sqrt(3)\n",
    "print (avr_UV_1, np.sqrt(err_UV_1**2+0.001**2))\n",
    "UV_total.append(2.34)\n",
    "err_UV_total.append (0.01)\n",
    "\n",
    "avr_UV_2 = np.average(UV_2)\n",
    "err_UV_2 = np.std(UV_2)/np.sqrt(3)\n",
    "print (avr_UV_2, np.sqrt(err_UV_2**2+0.001**2))\n",
    "UV_total.append(2.499)\n",
    "err_UV_total.append (0.001)\n",
    "\n",
    "avr_UV_3 = np.average(UV_3)\n",
    "err_UV_3 = np.std(UV_3)/np.sqrt(3)\n",
    "print (avr_UV_3, np.sqrt(err_UV_3**2+0.001**2))\n",
    "UV_total.append(2.487)\n",
    "err_UV_total.append (0.006)\n",
    "\n",
    "uv=weighted_mean (UV_total, err_UV_total)"
   ]
  },
  {
   "cell_type": "code",
   "execution_count": 64,
   "metadata": {},
   "outputs": [],
   "source": [
    "import scipy"
   ]
  },
  {
   "cell_type": "code",
   "execution_count": 65,
   "metadata": {},
   "outputs": [
    {
     "name": "stdout",
     "output_type": "stream",
     "text": [
      "1.3447059962179676e-06 -0.8360664782445457 1.3728698418652888e-07\n",
      "h_slope: 7.185760051840235e-34\n",
      "percent diff: 8.447933169940164\n"
     ]
    },
    {
     "data": {
      "image/png": "[encoded data removed]",
      "text/plain": [
       "<Figure size 432x288 with 1 Axes>"
      ]
     },
     "metadata": {},
     "output_type": "display_data"
    }
   ],
   "source": [
    "e=1.602*10**-19\n",
    "c=2.9979*10**8\n",
    "wl = list(map(lambda x: x*10**-9, [626,589,530,400]))\n",
    "x = list(map(lambda x: 1/x,wl))\n",
    "y = [rd[0],yl[0],gr[0],uv[0]]\n",
    "a,b,_,_,err=scipy.stats.linregress(x,y)\n",
    "print(a,b,err)\n",
    "h=a*e/c\n",
    "print('h_slope: '+ str(h))\n",
    "print('percent diff: ' + str((h-6.626*10**-34)*100/(6.626*10**-34)))\n",
    "plt.plot(x,y,'ro')\n",
    "plt.plot(np.linspace(x[0],x[-1]),list(map(lambda x : a*x+b, np.linspace(x[0],x[-1]))))\n",
    "plt.show()"
   ]
  },
  {
   "cell_type": "code",
   "execution_count": 94,
   "metadata": {},
   "outputs": [
    {
     "name": "stdout",
     "output_type": "stream",
     "text": [
      "[4.93435177e-34]\n"
     ]
    },
    {
     "data": {
      "image/png": "[encoded data removed]",
      "text/plain": [
       "<Figure size 432x288 with 1 Axes>"
      ]
     },
     "metadata": {},
     "output_type": "display_data"
    }
   ],
   "source": [
    "def func(x,a):\n",
    "    return a*x\n",
    "par,cov=scipy.optimize.curve_fit(func,x,y)\n",
    "fit = np.polyval([par,0],x)\n",
    "plt.plot(x,y,'ro')\n",
    "plt.plot(np.linspace(0,x[-1]),list(map(lambda x: x*par, np.linspace(0,x[-1]))))\n",
    "plt.plot(np.linspace(x[0],x[-1]),list(map(lambda x : a*x+b, np.linspace(x[0],x[-1]))))\n",
    "print(par*e/c)\n",
    "plt.show()"
   ]
  },
  {
   "cell_type": "code",
   "execution_count": null,
   "metadata": {},
   "outputs": [],
   "source": []
  }
 ],
 "metadata": {
  "kernelspec": {
   "display_name": "Python 3",
   "language": "python",
   "name": "python3"
  },
  "language_info": {
   "codemirror_mode": {
    "name": "ipython",
    "version": 3
   },
   "file_extension": ".py",
   "mimetype": "text/x-python",
   "name": "python",
   "nbconvert_exporter": "python",
   "pygments_lexer": "ipython3",
   "version": "3.6.5"
  }
 },
 "nbformat": 4,
 "nbformat_minor": 2
}
