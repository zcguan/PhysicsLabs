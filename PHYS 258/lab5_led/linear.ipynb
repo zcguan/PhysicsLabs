{
 "cells": [
  {
   "cell_type": "code",
   "execution_count": 1,
   "metadata": {},
   "outputs": [],
   "source": [
    "import numpy as np\n",
    "import matplotlib.pyplot as plt"
   ]
  },
  {
   "cell_type": "code",
   "execution_count": 2,
   "metadata": {},
   "outputs": [],
   "source": [
    "import numpy as np\n",
    "import matplotlib.pyplot as plt"
   ]
  },
  {
   "cell_type": "code",
   "execution_count": 3,
   "metadata": {},
   "outputs": [],
   "source": [
    "#Data\n",
    "red_1    = [1.305, 1.305, 1.305]\n",
    "red_2    = [1.287, 1.281, 1.278]\n",
    "red_3    = [1.277, 1.271, 1.280]\n",
    "\n",
    "yellow_1 = [1.376, 1.392, 1.375]\n",
    "yellow_2 = [1.367, 1.377, 1.360]\n",
    "yellow_3 = [1.398, 1.432, 1.410]\n",
    "\n",
    "green_1  = [1.705, 1.693, 1.710]\n",
    "green_2  = [1.854, 1.863, 1.849]\n",
    "green_3  = [1.861, 1.851, 1.844]\n",
    "\n",
    "UV_1     = [2.347, 2.309, 2.354]\n",
    "UV_2     = [2.499, 2.500, 2.499]\n",
    "UV_3     = [2.482, 2.477, 2.501]\n",
    "\n",
    "red = red_1 + red_2 + red_3\n",
    "yellow = yellow_1 + yellow_2 + yellow_3\n",
    "green = green_1 + green_2 + green_3\n",
    "UV = UV_1 + UV_2 + UV_3"
   ]
  },
  {
   "cell_type": "markdown",
   "metadata": {},
   "source": [
    "# Non-Weighted Mean"
   ]
  },
  {
   "cell_type": "code",
   "execution_count": 4,
   "metadata": {},
   "outputs": [
    {
     "name": "stdout",
     "output_type": "stream",
     "text": [
      "1.2876666666666667 0.004288946459026394\n"
     ]
    }
   ],
   "source": [
    "#Red\n",
    "avr_red = np.average (red)\n",
    "err_red = np.std(red)/3\n",
    "print (avr_red, err_red)"
   ]
  },
  {
   "cell_type": "code",
   "execution_count": 5,
   "metadata": {},
   "outputs": [
    {
     "name": "stdout",
     "output_type": "stream",
     "text": [
      "1.3874444444444445 0.007194152479894896\n"
     ]
    }
   ],
   "source": [
    "#Yellow\n",
    "avr_yellow = np.average (yellow)\n",
    "err_yellow = np.std(yellow)/3\n",
    "print (avr_yellow, err_yellow)"
   ]
  },
  {
   "cell_type": "code",
   "execution_count": 6,
   "metadata": {},
   "outputs": [
    {
     "name": "stdout",
     "output_type": "stream",
     "text": [
      "1.8033333333333335 0.02383534050082195\n"
     ]
    }
   ],
   "source": [
    "#Green\n",
    "avr_green = np.average (green)\n",
    "err_green = np.std(green)/3\n",
    "print (avr_green, err_green)"
   ]
  },
  {
   "cell_type": "code",
   "execution_count": 7,
   "metadata": {},
   "outputs": [
    {
     "name": "stdout",
     "output_type": "stream",
     "text": [
      "2.440888888888889 0.024997503304685528\n"
     ]
    }
   ],
   "source": [
    "#UV\n",
    "avr_UV = np.average (UV)\n",
    "err_UV = np.std(UV)/3\n",
    "print (avr_UV, err_UV)"
   ]
  },
  {
   "cell_type": "markdown",
   "metadata": {},
   "source": [
    "# Weighted Mean"
   ]
  },
  {
   "cell_type": "code",
   "execution_count": 8,
   "metadata": {},
   "outputs": [],
   "source": [
    "def weighted_mean (rounded_data, rounded_error):\n",
    "    weights = []\n",
    "    wx = []\n",
    "    for x in rounded_error:\n",
    "        weights.append(1/x**2)\n",
    "    for i in range(len(rounded_data)):\n",
    "        wx.append (weights[i] * rounded_data[i])\n",
    "    mean = sum (wx)/sum(weights)\n",
    "    error = np.sqrt(1/sum(weights))\n",
    "    return mean, np.sqrt(0.01**2+error**2)"
   ]
  },
  {
   "cell_type": "code",
   "execution_count": 9,
   "metadata": {},
   "outputs": [
    {
     "name": "stdout",
     "output_type": "stream",
     "text": [
      "1.305 0.01\n",
      "1.2819999999999998 0.010230672835481867\n",
      "1.276 0.010230672835481876\n",
      "(1.29, 0.011547005383792516)\n"
     ]
    }
   ],
   "source": [
    "#Red\n",
    "red_total = []\n",
    "err_red_total = []\n",
    "\n",
    "avr_red_1 = np.average(red_1)\n",
    "err_red_1 = np.std(red_1)/np.sqrt(3)\n",
    "print (avr_red_1, np.sqrt(err_red_1**2+0.01**2))\n",
    "red_total.append(1.31)\n",
    "err_red_total.append (0.01)\n",
    "\n",
    "avr_red_2 = np.average(red_2)\n",
    "err_red_2 = np.std(red_2)/np.sqrt(3)\n",
    "print (avr_red_2, np.sqrt(err_red_2**2+0.01**2))\n",
    "red_total.append(1.28)\n",
    "err_red_total.append (0.01)\n",
    "\n",
    "avr_red_3 = np.average(red_3)\n",
    "err_red_3 = np.std(red_3)/np.sqrt(3)\n",
    "print (avr_red_3, np.sqrt(err_red_3**2+0.01**2))\n",
    "red_total.append(1.28)\n",
    "err_red_total.append (0.01)\n",
    "\n",
    "rd=weighted_mean (red_total, err_red_total)\n",
    "print (rd)"
   ]
  },
  {
   "cell_type": "code",
   "execution_count": 10,
   "metadata": {},
   "outputs": [
    {
     "name": "stdout",
     "output_type": "stream",
     "text": [
      "1.381 0.010964589468932346\n",
      "1.368 0.010780641085864146\n",
      "1.4133333333333333 0.012886973037687096\n",
      "(1.3866666666666667, 0.011547005383792516)\n"
     ]
    }
   ],
   "source": [
    "#Yellow\n",
    "yellow_total = []\n",
    "err_yellow_total = []\n",
    "\n",
    "avr_yellow_1 = np.average(yellow_1)\n",
    "err_yellow_1 = np.std(yellow_1)/np.sqrt(3)\n",
    "print (avr_yellow_1, np.sqrt(err_yellow_1**2+0.01**2))\n",
    "yellow_total.append(1.38)\n",
    "err_yellow_total.append (0.01)\n",
    "\n",
    "avr_yellow_2 = np.average(yellow_2)\n",
    "err_yellow_2 = np.std(yellow_2)/np.sqrt(3)\n",
    "print (avr_yellow_2, np.sqrt(err_yellow_2**2+0.01**2))\n",
    "yellow_total.append(1.37)\n",
    "err_yellow_total.append (0.01)\n",
    "\n",
    "avr_yellow_3 = np.average(yellow_3)\n",
    "err_yellow_3 = np.std(yellow_3)/np.sqrt(3)\n",
    "print (avr_yellow_3, np.sqrt(err_yellow_3**2+0.01**2))\n",
    "yellow_total.append(1.41)\n",
    "err_yellow_total.append (0.01)\n",
    "\n",
    "yl=weighted_mean (yellow_total, err_yellow_total)\n",
    "print (yl)"
   ]
  },
  {
   "cell_type": "code",
   "execution_count": 11,
   "metadata": {},
   "outputs": [
    {
     "name": "stdout",
     "output_type": "stream",
     "text": [
      "1.7026666666666668 0.010814941653238949\n",
      "1.8553333333333333 0.010544438590327375\n",
      "1.852 0.010780641085864146\n",
      "(1.8033333333333332, 0.011547005383792516)\n"
     ]
    }
   ],
   "source": [
    "#Green\n",
    "green_total = []\n",
    "err_green_total = []\n",
    "\n",
    "avr_green_1 = np.average(green_1)\n",
    "err_green_1 = np.std(green_1)/np.sqrt(3)\n",
    "print (avr_green_1, np.sqrt(err_green_1**2+0.01**2))\n",
    "green_total.append(1.70)\n",
    "err_green_total.append (0.01)\n",
    "\n",
    "avr_green_2 = np.average(green_2)\n",
    "err_green_2 = np.std(green_2)/np.sqrt(3)\n",
    "print (avr_green_2, np.sqrt(err_green_2**2+0.01**2))\n",
    "green_total.append(1.86)\n",
    "err_green_total.append (0.01)\n",
    "\n",
    "avr_green_3 = np.average(green_3)\n",
    "err_green_3 = np.std(green_3)/np.sqrt(3)\n",
    "print (avr_green_3, np.sqrt(err_green_3**2+0.01**2))\n",
    "green_total.append(1.85)\n",
    "err_green_total.append (0.01)\n",
    "\n",
    "gr=weighted_mean (green_total, err_green_total)\n",
    "print (gr)"
   ]
  },
  {
   "cell_type": "code",
   "execution_count": 12,
   "metadata": {},
   "outputs": [
    {
     "name": "stdout",
     "output_type": "stream",
     "text": [
      "2.336666666666667 0.015175516343646948\n",
      "2.499333333333334 0.010003703018086556\n",
      "2.4866666666666664 0.011646013465114548\n",
      "(2.477777777777778, 0.012018504251546632)\n"
     ]
    }
   ],
   "source": [
    "#UV\n",
    "UV_total = []\n",
    "err_UV_total = []\n",
    "\n",
    "avr_UV_1 = np.average(UV_1)\n",
    "err_UV_1 = np.std(UV_1)/np.sqrt(3)\n",
    "print (avr_UV_1, np.sqrt(err_UV_1**2+0.01**2))\n",
    "UV_total.append(2.34)\n",
    "err_UV_total.append (0.02)\n",
    "\n",
    "avr_UV_2 = np.average(UV_2)\n",
    "err_UV_2 = np.std(UV_2)/np.sqrt(3)\n",
    "print (avr_UV_2, np.sqrt(err_UV_2**2+0.01**2))\n",
    "UV_total.append(2.50)\n",
    "err_UV_total.append (0.01)\n",
    "\n",
    "avr_UV_3 = np.average(UV_3)\n",
    "err_UV_3 = np.std(UV_3)/np.sqrt(3)\n",
    "print (avr_UV_3, np.sqrt(err_UV_3**2+0.01**2))\n",
    "UV_total.append(2.49)\n",
    "err_UV_total.append (0.01)\n",
    "\n",
    "uv=weighted_mean (UV_total, err_UV_total)\n",
    "print (uv)"
   ]
  },
  {
   "cell_type": "code",
   "execution_count": 13,
   "metadata": {},
   "outputs": [],
   "source": [
    "import scipy.stats\n",
    "import scipy.optimize"
   ]
  },
  {
   "cell_type": "code",
   "execution_count": 14,
   "metadata": {},
   "outputs": [
    {
     "name": "stdout",
     "output_type": "stream",
     "text": [
      "1.3172357009388784e-06 -0.7862673257315551 1.4481021850459268e-07\n",
      "h_slope: 7.038965919157021e-34\n",
      "7.738282465871359e-35\n",
      "percent diff: 6.23250708054665\n"
     ]
    },
    {
     "data": {
      "image/png": "[encoded data removed]",
      "text/plain": [
       "<Figure size 432x288 with 1 Axes>"
      ]
     },
     "metadata": {},
     "output_type": "display_data"
    },
    {
     "name": "stdout",
     "output_type": "stream",
     "text": [
      "[ 1.31723570e-06 -7.86267322e-01]\n",
      "1.448102110721833e-07\n",
      "-0.7862673257315551 pm 0.2822775060908235\n"
     ]
    }
   ],
   "source": [
    "e=1.602*10**-19\n",
    "c=2.9979*10**8\n",
    "wl = list(map(lambda x: x*10**-9, [625.6,589.21,533.88,399.84]))\n",
    "x = list(map(lambda x: 1/x,wl))\n",
    "y = [rd[0],yl[0],gr[0],uv[0]]\n",
    "a,b,_,_,err = scipy.stats.linregress(x,y)\n",
    "print(a,b,err)\n",
    "h=a*e/c\n",
    "print('h_slope: '+ str(h))\n",
    "print((e/c)*err)\n",
    "print('percent diff: ' + str((h-6.626*10**-34)*100/(6.626*10**-34)))\n",
    "plt.plot(x,y,'ro')\n",
    "plt.plot(np.linspace(x[0],x[-1]),list(map(lambda x : a*x+b, \n",
    "                                          np.linspace(x[0],x[-1]))))\n",
    "plt.show()\n",
    "\n",
    "par,cov = scipy.optimize.curve_fit((lambda x,a,b: a*x+b),x,y)\n",
    "print(par)\n",
    "print(np.sqrt(cov[0,0]))\n",
    "print(str(b)+' pm '+ str(np.sqrt(cov[1,1])))"
   ]
  },
  {
   "cell_type": "code",
   "execution_count": 15,
   "metadata": {},
   "outputs": [
    {
     "name": "stdout",
     "output_type": "stream",
     "text": [
      "[9.20467963e-07]\n",
      "[4.91874204e-34]\n",
      "[[4.70270317e-08]]\n"
     ]
    },
    {
     "data": {
      "image/png": "[encoded data removed]",
      "text/plain": [
       "<Figure size 576x396 with 3 Axes>"
      ]
     },
     "metadata": {},
     "output_type": "display_data"
    }
   ],
   "source": [
    "def func(x,a):\n",
    "    return a*x\n",
    "par,cov=scipy.optimize.curve_fit(func,x,y)\n",
    "fit = np.polyval([par,0],x)\n",
    "\n",
    "\n",
    "f,(ax1,ax2)=plt.subplots(2, sharex=True, figsize = [8,5.5],gridspec_kw = {'height_ratios':[1, 2]})\n",
    "f.add_subplot(111,frameon=False)\n",
    "plt.tick_params(labelcolor = 'none', bottom = False, left = False)\n",
    "plt.title(\"Threshold voltage V vs. Inverse of wavelength 1/λ\",\n",
    "          fontsize = 20, fontname = \"Times New Roman\")\n",
    "plt.xlabel(\"1/λ [m$^{-1}$]\",fontsize = 18, fontname = \"Times New Roman\")\n",
    "plt.ylabel(\"Threshold voltage [V]\",fontsize = 18,fontname = \"Times New Roman\",labelpad=14)\n",
    "ax2.tick_params ('both', labelsize = 12)\n",
    "ax1.tick_params ('both', labelsize = 12)\n",
    "ax2.plot(np.linspace(0,x[-1]),list(map(lambda x: x*par, \n",
    "                                       np.linspace(0,x[-1]))), 'c',\n",
    "         label = \"Linear regression with\\nforced zero-intercept\")\n",
    "\n",
    "ax2.plot(np.linspace(0,x[-1]),list(map(lambda x : a*x+b,\n",
    "                                          np.linspace(0,x[-1]))), 'b',\n",
    "         label = \"Normal linear regression\")\n",
    "ax2.errorbar(x, y, yerr = 0.01, fmt = 'ro', markersize = 4, \n",
    "             capsize = 5,label = \"Threshold voltages\\nwith error bars\")\n",
    "res1=(y-fit)\n",
    "res2= np.polyval([a,b],x)-y\n",
    "ax1.plot(np.linspace(0,x[-1],2),[0]*2,'g:')\n",
    "ax1.plot(x,res1,'co',label='Residual of forced zero-intercept fit')\n",
    "ax1.plot(x,res2,'bo',label='Residual of linear fit')\n",
    "ax1.errorbar(x,res1,yerr=0.01,fmt='co',capsize=5)\n",
    "ax1.errorbar(x,res2,yerr=0.01,fmt='bo',capsize=5)\n",
    "print(par)\n",
    "print(par*e/c)\n",
    "print (np.sqrt(cov))\n",
    "ax2.legend(loc = 2, prop={'family':'Times New Roman','size':12})\n",
    "ax1.legend(prop={'family':'Times New Roman'})\n",
    "plt.savefig('fit.pdf')\n",
    "plt.show()"
   ]
  },
  {
   "cell_type": "code",
   "execution_count": 16,
   "metadata": {},
   "outputs": [
    {
     "name": "stdout",
     "output_type": "stream",
     "text": [
      "26.04889827950498\n",
      "5.644431029278594\n"
     ]
    }
   ],
   "source": [
    "hh = 6.626\n",
    "print((hh-4.9)*100/hh)\n",
    "print((7-hh)*100/hh)"
   ]
  },
  {
   "cell_type": "code",
   "execution_count": null,
   "metadata": {},
   "outputs": [],
   "source": []
  },
  {
   "cell_type": "code",
   "execution_count": null,
   "metadata": {},
   "outputs": [],
   "source": []
  }
 ],
 "metadata": {
  "kernelspec": {
   "display_name": "Python 3",
   "language": "python",
   "name": "python3"
  },
  "language_info": {
   "codemirror_mode": {
    "name": "ipython",
    "version": 3
   },
   "file_extension": ".py",
   "mimetype": "text/x-python",
   "name": "python",
   "nbconvert_exporter": "python",
   "pygments_lexer": "ipython3",
   "version": "3.6.5"
  }
 },
 "nbformat": 4,
 "nbformat_minor": 2
}
