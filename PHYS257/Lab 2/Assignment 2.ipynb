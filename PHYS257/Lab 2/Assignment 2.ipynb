{
 "cells": [
  {
   "cell_type": "code",
   "execution_count": 42,
   "metadata": {},
   "outputs": [],
   "source": [
    "import numpy as np\n",
    "import os\n",
    "import matplotlib.pyplot as plt"
   ]
  },
  {
   "cell_type": "code",
   "execution_count": 43,
   "metadata": {},
   "outputs": [],
   "source": [
    "time =[101,96,133,45,105,48,34,92,74,75,99,112,62,99,69,121,119,50,93,89,84,124,51,58,34,132,97,77,96,85,97,85,106,82,139,46,32,33,27,68,73,63,111,95,112,131,136,43,36,103]\n",
    "calories =[1267,759,899,434,1489,681,544,929,934,376,949,1087,910,1188,469,1449,1218,395,1399,1114,1146,1775,678,874,630,1967,1321,1382,1167,1009,1716,860,1277,1286,1718,1004,723,491,82,1003,443,845,1598,1212,1633,2235,1936,601,645,1378]"
   ]
  },
  {
   "cell_type": "code",
   "execution_count": 57,
   "metadata": {},
   "outputs": [
    {
     "name": "stdout",
     "output_type": "stream",
     "text": [
      "mean time: 83.44\n",
      "mean calories: 1062.5\n",
      "mean time(numpy function): 83.44\n",
      "mean calories(numpy function): 1062.5\n",
      "Std time: 31.159\n",
      "Std calories: 464.271\n",
      "Std time(numpy function): 31.159\n",
      "Std calories(numpy function): 464.271\n"
     ]
    },
    {
     "data": {
      "text/plain": [
       "[<matplotlib.lines.Line2D at 0x216051b05c0>]"
      ]
     },
     "execution_count": 57,
     "metadata": {},
     "output_type": "execute_result"
    },
    {
     "data": {
      "image/png": "[encoded data removed]",
      "text/plain": [
       "<Figure size 432x288 with 1 Axes>"
      ]
     },
     "metadata": {},
     "output_type": "display_data"
    }
   ],
   "source": [
    "def mean(lst):\n",
    "    return sum(lst)/len(lst)\n",
    "meantm = mean(time)\n",
    "meancal = mean(calories)\n",
    "print(\"mean time:\",round(meantm,3))\n",
    "print(\"mean calories:\",round(meancal,3))\n",
    "print(\"mean time(numpy function):\",round(np.mean(time),3))\n",
    "print(\"mean calories(numpy function):\",round(np.mean(calories),3))\n",
    "def power(x):\n",
    "    return x**2\n",
    "def sqrt (x):\n",
    "    return np.sqrt(x)\n",
    "def partsum(lst,mean):\n",
    "    i=0\n",
    "    partsum = 0\n",
    "    while i < len(lst):\n",
    "        partsum += power((lst[i]-mean))\n",
    "        i+= 1\n",
    "    return partsum\n",
    "def std(lst, mean, n):\n",
    "    return sqrt(partsum(lst,mean)/(n))\n",
    "Stime=(std(time,meantm,len(time)))\n",
    "Scal=(std(calories,meancal,len(calories)))\n",
    "print(\"Std time:\",round(Stime,3))\n",
    "print(\"Std calories:\",round(Scal,3))\n",
    "print(\"Std time(numpy function):\",round(np.std(time),3))\n",
    "print(\"Std calories(numpy function):\",round(np.std(calories),3))\n",
    "plt.plot(time,calories,\"bo\")"
   ]
  },
  {
   "cell_type": "code",
   "execution_count": null,
   "metadata": {},
   "outputs": [],
   "source": [
    "# when time increases the calories tend to increase too"
   ]
  },
  {
   "cell_type": "code",
   "execution_count": 9,
   "metadata": {},
   "outputs": [],
   "source": [
    "# the correlation coefficient should be close to +1 as both variable increase in a similar way\n",
    "# therefore the covariance should be positive"
   ]
  },
  {
   "cell_type": "code",
   "execution_count": 14,
   "metadata": {},
   "outputs": [],
   "source": [
    "def S(l1,l2,m1,m2): #covariance with input 2 sets of data and their mean\n",
    "    total = 0\n",
    "    for i in range(len(l1)):\n",
    "        total += (l1[i]-m1)*(l2[i]-m2)\n",
    "    return total/(len(l1)-1)"
   ]
  },
  {
   "cell_type": "code",
   "execution_count": 34,
   "metadata": {},
   "outputs": [
    {
     "name": "stdout",
     "output_type": "stream",
     "text": [
      "covariance: 11981.102\n",
      "coefficient: 0.828\n"
     ]
    }
   ],
   "source": [
    "s = S(time,calories,meantm,meancal)\n",
    "r = s/(Stime*Scal)\n",
    "print(\"covariance:\",round(s,3))\n",
    "print(\"coefficient:\",round(r,3))"
   ]
  },
  {
   "cell_type": "code",
   "execution_count": null,
   "metadata": {},
   "outputs": [],
   "source": []
  }
 ],
 "metadata": {
  "kernelspec": {
   "display_name": "Python 3",
   "language": "python",
   "name": "python3"
  },
  "language_info": {
   "codemirror_mode": {
    "name": "ipython",
    "version": 3
   },
   "file_extension": ".py",
   "mimetype": "text/x-python",
   "name": "python",
   "nbconvert_exporter": "python",
   "pygments_lexer": "ipython3",
   "version": "3.6.5"
  }
 },
 "nbformat": 4,
 "nbformat_minor": 2
}
