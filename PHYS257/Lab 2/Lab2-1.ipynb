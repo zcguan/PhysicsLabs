{
 "cells": [
  {
   "cell_type": "code",
   "execution_count": 1,
   "metadata": {},
   "outputs": [],
   "source": [
    "import numpy as np\n",
    "import os\n",
    "import matplotlib.pyplot as plot"
   ]
  },
  {
   "cell_type": "code",
   "execution_count": 2,
   "metadata": {},
   "outputs": [],
   "source": [
    "def data_generator(mean, std, n_measurements = 500, n_samples = 20):\n",
    "    \"\"\"\n",
    "Generate an array of measurements from a normal distribution.\n",
    "Parameters\n",
    "----------\n",
    "mean : float\n",
    "Desired mean value of the measurements.\n",
    "std : float\n",
    "Desired standard deviation of the measurements.\n",
    "n_measurements : int, optional\n",
    "Number of separate measurements. Default is 500 measurements.\n",
    "n_samples : int, optional\n",
    "Number of samples taken per measurement. Default is 20 sam\n",
    "ples. \n",
    "per measurement.\n",
    "Returns\n",
    "-------\n",
    "data : numpy.ndarray\n",
    "Array representing the experimental data. Each measurement \n",
    "(composed of many samples) is a row of this array:\n",
    "--------------------------\n",
    "---------\n",
    "meas1    | sample0 | sample1 | sample2 | ...\n",
    "meas2    | sample0 | sample1 | sample2 | ...\n",
    "meas3    | sample0 | sample1 | sample2 | ...\n",
    "...\n",
    "    \"\"\"\n",
    "\n",
    "    return np.random.normal(loc = mean, scale = std, size = (n_measurements, n_samples))"
   ]
  },
  {
   "cell_type": "code",
   "execution_count": 3,
   "metadata": {},
   "outputs": [],
   "source": [
    "def Gaussian(Amp,x, u, s):\n",
    "    return Amp*np.exp(-(x-u)*(x-u)/(2*s*s))/(s*np.sqrt(2*np.pi))"
   ]
  },
  {
   "cell_type": "code",
   "execution_count": 4,
   "metadata": {},
   "outputs": [],
   "source": [
    "data = \"rollingcylinderdata.csv\"\n",
    "result = np.transpose(np.loadtxt(data,delimiter=','))"
   ]
  },
  {
   "cell_type": "code",
   "execution_count": 5,
   "metadata": {},
   "outputs": [],
   "source": [
    "mean = np.mean(result[3])\n",
    "std = np.std(result[3])"
   ]
  },
  {
   "cell_type": "code",
   "execution_count": 40,
   "metadata": {},
   "outputs": [],
   "source": [
    "sim = data_generator(mean,std)\n",
    "simdata = np.ravel(sim)"
   ]
  },
  {
   "cell_type": "code",
   "execution_count": 7,
   "metadata": {
    "scrolled": true
   },
   "outputs": [
    {
     "name": "stdout",
     "output_type": "stream",
     "text": [
      "2.7638477390381784\n",
      "0.10477019886868283\n"
     ]
    }
   ],
   "source": [
    "# mean and std of the distribution of measurements\n",
    "meansim = np.mean(simdata)\n",
    "stdsim = np.std(simdata)\n",
    "print(meansim)\n",
    "print(stdsim)"
   ]
  },
  {
   "cell_type": "code",
   "execution_count": 8,
   "metadata": {},
   "outputs": [
    {
     "data": {
      "image/png": "[encoded data removed]",
      "text/plain": [
       "<Figure size 432x288 with 1 Axes>"
      ]
     },
     "metadata": {},
     "output_type": "display_data"
    }
   ],
   "source": [
    "height, bins, _ = plot.hist(simdata,50)\n",
    "x=np.linspace(bins[0],bins[-1],100)\n",
    "width = bins[1]-bins[0]\n",
    "area = height*width\n",
    "amp1 = np.sum(area)\n",
    "y=Gaussian(amp1,x,meansim,stdsim)\n",
    "plot.plot(x,y)\n",
    "plot.show()\n",
    "# distribution of results\n",
    "# when bin number increases, the graph becomes closer to the gaussian.\n",
    "# but when the number approaches to the total number of data, \n",
    "# the graph is small and almost unreadable.\n",
    "# when the number decreases, the graph doesnt look like gaussin anymore,\n",
    "# with small nunmber (1-5), the graph doesnt make sens."
   ]
  },
  {
   "cell_type": "code",
   "execution_count": 9,
   "metadata": {},
   "outputs": [
    {
     "name": "stdout",
     "output_type": "stream",
     "text": [
      "[  3.   0.   1.   3.   3.   2.   3.  16.  15.  32.  40.  55.  66.  89.\n",
      " 124. 176. 181. 231. 283. 347. 356. 415. 472. 536. 532. 538. 588. 600.\n",
      " 550. 521. 504. 428. 396. 365. 310. 269. 227. 172. 131. 122.  81.  71.\n",
      "  50.  39.  15.  17.   7.  12.   1.   5.]\n",
      "[2.36137462 2.37638749 2.39140036 2.40641323 2.4214261  2.43643897\n",
      " 2.45145184 2.46646472 2.48147759 2.49649046 2.51150333 2.5265162\n",
      " 2.54152907 2.55654194 2.57155481 2.58656768 2.60158056 2.61659343\n",
      " 2.6316063  2.64661917 2.66163204 2.67664491 2.69165778 2.70667065\n",
      " 2.72168353 2.7366964  2.75170927 2.76672214 2.78173501 2.79674788\n",
      " 2.81176075 2.82677362 2.8417865  2.85679937 2.87181224 2.88682511\n",
      " 2.90183798 2.91685085 2.93186372 2.94687659 2.96188946 2.97690234\n",
      " 2.99191521 3.00692808 3.02194095 3.03695382 3.05196669 3.06697956\n",
      " 3.08199243 3.09700531 3.11201818]\n"
     ]
    }
   ],
   "source": [
    "print(height)\n",
    "print(bins)"
   ]
  },
  {
   "cell_type": "code",
   "execution_count": 10,
   "metadata": {},
   "outputs": [],
   "source": [
    "np.savetxt(\"Height\", height)\n",
    "np.savetxt(\"Bin\",bins)"
   ]
  },
  {
   "cell_type": "code",
   "execution_count": 11,
   "metadata": {},
   "outputs": [],
   "source": [
    "means = []\n",
    "for i in range(500):\n",
    "    x = np.mean(sim[i])\n",
    "    means.append(x)"
   ]
  },
  {
   "cell_type": "code",
   "execution_count": 12,
   "metadata": {},
   "outputs": [
    {
     "name": "stdout",
     "output_type": "stream",
     "text": [
      "2.7638477390381784\n",
      "0.023721385157223742\n"
     ]
    }
   ],
   "source": [
    "# mean and std of the distribution of results\n",
    "meanmean = np.mean(means)\n",
    "stdmean = np.std(means)\n",
    "print(meanmean)\n",
    "print(stdmean)"
   ]
  },
  {
   "cell_type": "code",
   "execution_count": 13,
   "metadata": {},
   "outputs": [
    {
     "data": {
      "image/png": "[encoded data removed]",
      "text/plain": [
       "<Figure size 432x288 with 1 Axes>"
      ]
     },
     "metadata": {},
     "output_type": "display_data"
    }
   ],
   "source": [
    "height2, bins2, _ = plot.hist(means,30)\n",
    "x2=np.linspace(bins2[0],bins2[-1],100)\n",
    "width2 = bins2[1]-bins2[0]\n",
    "area2 = height2*width2\n",
    "amp2 = np.sum(area2)\n",
    "y2=Gaussian(amp2,x2,meanmean,stdmean)\n",
    "plot.plot(x2,y2)\n",
    "plot.show()\n",
    "# distribution of results\n",
    "# same effect as above.\n",
    "# when bin number goes up, the graph looks like noises."
   ]
  },
  {
   "cell_type": "code",
   "execution_count": 14,
   "metadata": {},
   "outputs": [],
   "source": [
    "np.savetxt('Height2', height2)\n",
    "np.savetxt('Bin2', bins2)"
   ]
  },
  {
   "cell_type": "code",
   "execution_count": 57,
   "metadata": {},
   "outputs": [
    {
     "name": "stdout",
     "output_type": "stream",
     "text": [
      "0.22641347838764456\n",
      "0.0010477019886868282\n"
     ]
    },
    {
     "data": {
      "text/plain": [
       "0.0010477019886868282"
      ]
     },
     "execution_count": 57,
     "metadata": {},
     "output_type": "execute_result"
    }
   ],
   "source": [
    "factor = stdmean/stdsim\n",
    "print(factor)\n",
    "formula= stdsim/(np.sqrt(len(simdata)))\n",
    "print(formula)\n",
    "# 4. \n",
    "# the std of distribution of results is 22.3% the std of distribution of measurements which means that the std of distribution\n",
    "# of the results is smaller then the std of distribution of the measurements by a factor of about 5.\n",
    "\n",
    "stdsim/np.sqrt(10000)\n",
    "# "
   ]
  },
  {
   "cell_type": "code",
   "execution_count": 64,
   "metadata": {},
   "outputs": [
    {
     "name": "stdout",
     "output_type": "stream",
     "text": [
      "0.0010608525946401363\n"
     ]
    }
   ],
   "source": [
    "#5\n",
    "stderrmean= stdmean/(np.sqrt(len(means)))\n",
    "print(stderrmean)"
   ]
  },
  {
   "cell_type": "code",
   "execution_count": 16,
   "metadata": {},
   "outputs": [
    {
     "data": {
      "image/png": "[encoded data removed]",
      "text/plain": [
       "<Figure size 432x288 with 1 Axes>"
      ]
     },
     "metadata": {},
     "output_type": "display_data"
    }
   ],
   "source": [
    "height3, bins3, _ = plot.hist(simdata,6)\n",
    "plot.show()"
   ]
  },
  {
   "cell_type": "code",
   "execution_count": 17,
   "metadata": {},
   "outputs": [
    {
     "name": "stdout",
     "output_type": "stream",
     "text": [
      "0.7496\n",
      "68.2\n"
     ]
    }
   ],
   "source": [
    "sig1 = (height3[2]+height3[3])/np.sum(height3)\n",
    "print(sig1) # fraction within 1 sigma\n",
    "print(34.1*2) # fraction of gaussian distribution"
   ]
  },
  {
   "cell_type": "code",
   "execution_count": 18,
   "metadata": {},
   "outputs": [
    {
     "name": "stdout",
     "output_type": "stream",
     "text": [
      "0.9799\n",
      "95.4\n"
     ]
    }
   ],
   "source": [
    "sig2 = (height3[1]+height3[2]+height3[3]+height3[4])/np.sum(height3)\n",
    "print(sig2) # fraction within 2 sigma\n",
    "print(34.1*2+13.6*2) # fraction of gaussian distribution"
   ]
  },
  {
   "cell_type": "code",
   "execution_count": 19,
   "metadata": {},
   "outputs": [
    {
     "name": "stdout",
     "output_type": "stream",
     "text": [
      "1.0\n",
      "99.60000000000001\n"
     ]
    }
   ],
   "source": [
    "sig3 = (height3[0]+height3[1]+height3[2]+height3[3]+height3[4]+height3[5])/np.sum(height3)\n",
    "print(sig3) # fraction within 3 sigma\n",
    "print(34.1*2+13.6*2+2.1*2) # fraction of gaussian distribution"
   ]
  },
  {
   "cell_type": "code",
   "execution_count": 20,
   "metadata": {},
   "outputs": [],
   "source": [
    "# we can see that the fractions are similar except that the simulated data are more concentrated within 1 sigma than the gaussian"
   ]
  }
 ],
 "metadata": {
  "kernelspec": {
   "display_name": "Python 3",
   "language": "python",
   "name": "python3"
  },
  "language_info": {
   "codemirror_mode": {
    "name": "ipython",
    "version": 3
   },
   "file_extension": ".py",
   "mimetype": "text/x-python",
   "name": "python",
   "nbconvert_exporter": "python",
   "pygments_lexer": "ipython3",
   "version": "3.6.5"
  }
 },
 "nbformat": 4,
 "nbformat_minor": 2
}
