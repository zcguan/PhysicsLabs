{
 "cells": [
  {
   "cell_type": "code",
   "execution_count": 1,
   "metadata": {},
   "outputs": [],
   "source": [
    "import numpy as np\n",
    "import os\n",
    "import matplotlib.pyplot as plot"
   ]
  },
  {
   "cell_type": "code",
   "execution_count": 2,
   "metadata": {},
   "outputs": [],
   "source": [
    "def data_generator(mean, std, n_measurements = 500, n_samples = 20):\n",
    "    \"\"\"\n",
    "Generate an array of measurements from a normal distribution.\n",
    "Parameters\n",
    "----------\n",
    "mean : float\n",
    "Desired mean value of the measurements.\n",
    "std : float\n",
    "Desired standard deviation of the measurements.\n",
    "n_measurements : int, optional\n",
    "Number of separate measurements. Default is 500 measurements.\n",
    "n_samples : int, optional\n",
    "Number of samples taken per measurement. Default is 20 sam\n",
    "ples. \n",
    "per measurement.\n",
    "Returns\n",
    "-------\n",
    "data : numpy.ndarray\n",
    "Array representing the experimental data. Each measurement \n",
    "(composed of many samples) is a row of this array:\n",
    "--------------------------\n",
    "---------\n",
    "meas1    | sample0 | sample1 | sample2 | ...\n",
    "meas2    | sample0 | sample1 | sample2 | ...\n",
    "meas3    | sample0 | sample1 | sample2 | ...\n",
    "...\n",
    "    \"\"\"\n",
    "\n",
    "    return np.random.normal(loc = mean, scale = std, size = (n_measurements, n_samples))"
   ]
  },
  {
   "cell_type": "code",
   "execution_count": 3,
   "metadata": {},
   "outputs": [],
   "source": [
    "def Gaussian(Amp,x, u, s):\n",
    "    return Amp*np.exp(-(x-u)*(x-u)/(2*s*s))/(s*np.sqrt(2*np.pi))"
   ]
  },
  {
   "cell_type": "code",
   "execution_count": 4,
   "metadata": {},
   "outputs": [],
   "source": [
    "data = \"rollingcylinderdata.csv\"\n",
    "result = np.transpose(np.loadtxt(data,delimiter=','))"
   ]
  },
  {
   "cell_type": "code",
   "execution_count": 5,
   "metadata": {},
   "outputs": [],
   "source": [
    "mean = np.mean(result[3])\n",
    "std = np.std(result[3])"
   ]
  },
  {
   "cell_type": "code",
   "execution_count": 6,
   "metadata": {},
   "outputs": [],
   "source": [
    "sim = data_generator(mean,std)\n",
    "simdata = np.ravel(sim)"
   ]
  },
  {
   "cell_type": "code",
   "execution_count": 7,
   "metadata": {},
   "outputs": [
    {
     "name": "stdout",
     "output_type": "stream",
     "text": [
      "2.765792188175177\n",
      "0.10498017608832458\n"
     ]
    }
   ],
   "source": [
    "# mean and std of the distribution of measurements\n",
    "meansim = np.mean(simdata)\n",
    "stdsim = np.std(simdata)\n",
    "print(meansim)\n",
    "print(stdsim)"
   ]
  },
  {
   "cell_type": "code",
   "execution_count": 8,
   "metadata": {},
   "outputs": [
    {
     "data": {
      "image/png": "[encoded data removed]",
      "text/plain": [
       "<Figure size 432x288 with 1 Axes>"
      ]
     },
     "metadata": {},
     "output_type": "display_data"
    }
   ],
   "source": [
    "height, bins, _ = plot.hist(simdata,50)\n",
    "x=np.linspace(bins[0],bins[-1],100)\n",
    "width = bins[1]-bins[0]\n",
    "area = height*width\n",
    "amp1 = np.sum(area)\n",
    "y=Gaussian(amp1,x,meansim,stdsim)\n",
    "plot.plot(x,y)\n",
    "plot.show()\n",
    "# distribution of results\n",
    "# when bin number increases, the graph becomes closer to the gaussian.\n",
    "# but when the number approaches to the total number of data, \n",
    "# the graph is small and almost unreadable.\n",
    "# when the number decreases, the graph doesnt look like gaussin anymore,\n",
    "# with small nunmber (1-5), the graph doesnt make sens."
   ]
  },
  {
   "cell_type": "code",
   "execution_count": 9,
   "metadata": {},
   "outputs": [
    {
     "name": "stdout",
     "output_type": "stream",
     "text": [
      "[  1.   1.   2.   1.   4.   7.   8.  12.  20.  31.  40.  70.  57. 129.\n",
      " 145. 202. 254. 310. 391. 436. 499. 559. 623. 625. 619. 669. 617. 601.\n",
      " 563. 467. 471. 342. 286. 241. 199. 147. 103.  82.  61.  45.  20.  14.\n",
      "  12.   5.   5.   2.   0.   1.   0.   1.]\n",
      "[2.34054804 2.35763217 2.37471631 2.39180044 2.40888457 2.4259687\n",
      " 2.44305284 2.46013697 2.4772211  2.49430524 2.51138937 2.5284735\n",
      " 2.54555763 2.56264177 2.5797259  2.59681003 2.61389416 2.6309783\n",
      " 2.64806243 2.66514656 2.6822307  2.69931483 2.71639896 2.73348309\n",
      " 2.75056723 2.76765136 2.78473549 2.80181962 2.81890376 2.83598789\n",
      " 2.85307202 2.87015616 2.88724029 2.90432442 2.92140855 2.93849269\n",
      " 2.95557682 2.97266095 2.98974508 3.00682922 3.02391335 3.04099748\n",
      " 3.05808162 3.07516575 3.09224988 3.10933401 3.12641815 3.14350228\n",
      " 3.16058641 3.17767054 3.19475468]\n"
     ]
    }
   ],
   "source": [
    "print(height)\n",
    "print(bins)"
   ]
  },
  {
   "cell_type": "code",
   "execution_count": 10,
   "metadata": {},
   "outputs": [],
   "source": [
    "np.savetxt(\"Height\", height)\n",
    "np.savetxt(\"Bin\",bins)"
   ]
  },
  {
   "cell_type": "code",
   "execution_count": 11,
   "metadata": {},
   "outputs": [],
   "source": [
    "means = []\n",
    "for i in range(500):\n",
    "    x = np.mean(sim[i])\n",
    "    means.append(x)"
   ]
  },
  {
   "cell_type": "code",
   "execution_count": 12,
   "metadata": {},
   "outputs": [
    {
     "name": "stdout",
     "output_type": "stream",
     "text": [
      "2.765792188175176\n",
      "0.023776854488085572\n"
     ]
    }
   ],
   "source": [
    "# mean and std of the distribution of results\n",
    "meanmean = np.mean(means)\n",
    "stdmean = np.std(means)\n",
    "print(meanmean)\n",
    "print(stdmean)"
   ]
  },
  {
   "cell_type": "code",
   "execution_count": 13,
   "metadata": {},
   "outputs": [
    {
     "data": {
      "image/png": "[encoded data removed]",
      "text/plain": [
       "<Figure size 432x288 with 1 Axes>"
      ]
     },
     "metadata": {},
     "output_type": "display_data"
    }
   ],
   "source": [
    "height2, bins2, _ = plot.hist(means,30)\n",
    "x2=np.linspace(bins2[0],bins2[-1],100)\n",
    "width2 = bins2[1]-bins2[0]\n",
    "area2 = height2*width2\n",
    "amp2 = np.sum(area2)\n",
    "y2=Gaussian(amp2,x2,meanmean,stdmean)\n",
    "plot.plot(x2,y2)\n",
    "plot.show()\n",
    "# distribution of results\n",
    "# same effect as above.\n",
    "# when bin number goes up, the graph looks like noises."
   ]
  },
  {
   "cell_type": "code",
   "execution_count": 14,
   "metadata": {},
   "outputs": [],
   "source": [
    "np.savetxt('Height2', height2)\n",
    "np.savetxt('Bin2', bins2)"
   ]
  },
  {
   "cell_type": "code",
   "execution_count": 15,
   "metadata": {},
   "outputs": [
    {
     "name": "stdout",
     "output_type": "stream",
     "text": [
      "0.22648899415143892\n"
     ]
    },
    {
     "data": {
      "text/plain": [
       "0.0010498017608832457"
      ]
     },
     "execution_count": 15,
     "metadata": {},
     "output_type": "execute_result"
    }
   ],
   "source": [
    "factor = stdmean/stdsim\n",
    "print(factor)\n",
    "# 4. \n",
    "# the std of distribution of results is 22.3% the std of distribution of measurements\n",
    "stdsim/np.sqrt(10000)\n",
    "# "
   ]
  },
  {
   "cell_type": "code",
   "execution_count": 16,
   "metadata": {},
   "outputs": [
    {
     "data": {
      "image/png": "[encoded data removed]",
      "text/plain": [
       "<Figure size 432x288 with 1 Axes>"
      ]
     },
     "metadata": {},
     "output_type": "display_data"
    }
   ],
   "source": [
    "height3, bins3, _ = plot.hist(simdata,6)\n",
    "plot.show()"
   ]
  },
  {
   "cell_type": "code",
   "execution_count": 17,
   "metadata": {},
   "outputs": [
    {
     "name": "stdout",
     "output_type": "stream",
     "text": [
      "0.8288\n",
      "68.2\n"
     ]
    }
   ],
   "source": [
    "sig1 = (height3[2]+height3[3])/np.sum(height3)\n",
    "print(sig1) # fraction within 1 sigma\n",
    "print(34.1*2) # fraction of gaussian distribution"
   ]
  },
  {
   "cell_type": "code",
   "execution_count": 18,
   "metadata": {},
   "outputs": [
    {
     "name": "stdout",
     "output_type": "stream",
     "text": [
      "0.993\n",
      "95.4\n"
     ]
    }
   ],
   "source": [
    "sig2 = (height3[1]+height3[2]+height3[3]+height3[4])/np.sum(height3)\n",
    "print(sig2) # fraction within 2 sigma\n",
    "print(34.1*2+13.6*2) # fraction of gaussian distribution"
   ]
  },
  {
   "cell_type": "code",
   "execution_count": 19,
   "metadata": {},
   "outputs": [
    {
     "name": "stdout",
     "output_type": "stream",
     "text": [
      "1.0\n",
      "99.60000000000001\n"
     ]
    }
   ],
   "source": [
    "sig3 = (height3[0]+height3[1]+height3[2]+height3[3]+height3[4]+height3[5])/np.sum(height3)\n",
    "print(sig3) # fraction within 3 sigma\n",
    "print(34.1*2+13.6*2+2.1*2) # fraction of gaussian distribution"
   ]
  },
  {
   "cell_type": "code",
   "execution_count": 20,
   "metadata": {},
   "outputs": [],
   "source": [
    "# we can see that the fractions are similar except that the simulated data are more concentrated within 1 sigma than the gaussian"
   ]
  }
 ],
 "metadata": {
  "kernelspec": {
   "display_name": "Python 3",
   "language": "python",
   "name": "python3"
  },
  "language_info": {
   "codemirror_mode": {
    "name": "ipython",
    "version": 3
   },
   "file_extension": ".py",
   "mimetype": "text/x-python",
   "name": "python",
   "nbconvert_exporter": "python",
   "pygments_lexer": "ipython3",
   "version": "3.6.5"
  }
 },
 "nbformat": 4,
 "nbformat_minor": 2
}
