{
 "cells": [
  {
   "cell_type": "code",
   "execution_count": 2,
   "metadata": {},
   "outputs": [],
   "source": [
    "import numpy as np\n",
    "import os\n",
    "import matplotlib.pyplot as plt\n",
    "import math"
   ]
  },
  {
   "cell_type": "code",
   "execution_count": 26,
   "metadata": {},
   "outputs": [],
   "source": [
    "h=[0.15,0.30,0.45,0.60,0.75,0.90]\n",
    "t=[4.92,6.41,7.92,9.13,10.33,11.38]\n",
    "g=9.8\n",
    "m_accmass=0.02443\n",
    "m_topSdisc=1.359\n",
    "r_topSdisc=0.12656/2\n",
    "r_sPulley=0.02499/2\n",
    "I=0.5*m_topSdisc*r_topSdisc**2"
   ]
  },
  {
   "cell_type": "code",
   "execution_count": 27,
   "metadata": {},
   "outputs": [
    {
     "name": "stdout",
     "output_type": "stream",
     "text": [
      "[0.012393416617093, 0.014602768198091417, 0.014348025711662077, 0.014395928831326498, 0.014056934332562701, 0.01389914165078561]\n"
     ]
    }
   ],
   "source": [
    "a=[]\n",
    "for i in range(len(h)):\n",
    "    a.append(2*h[i]/t[i]**2)\n",
    "print(a)"
   ]
  },
  {
   "cell_type": "code",
   "execution_count": 28,
   "metadata": {},
   "outputs": [
    {
     "name": "stdout",
     "output_type": "stream",
     "text": [
      "[0.06097560975609756, 0.09360374414976598, 0.11363636363636365, 0.13143483023001093, 0.14520813165537272, 0.15817223198594024]\n"
     ]
    }
   ],
   "source": [
    "v=[]\n",
    "for i in range(len(h)):\n",
    "    v.append(math.sqrt(2*a[i]*h[i]))\n",
    "print(v)"
   ]
  },
  {
   "cell_type": "code",
   "execution_count": 29,
   "metadata": {},
   "outputs": [
    {
     "name": "stdout",
     "output_type": "stream",
     "text": [
      "[4.880000780800125, 7.49129605040144, 9.094546909672962, 10.518994016007278, 11.621299052050638, 12.658842095713506]\n"
     ]
    }
   ],
   "source": [
    "w=[]\n",
    "for i in range(len(h)):\n",
    "    w.append(v[i]/r_sPulley)\n",
    "print(w)"
   ]
  },
  {
   "cell_type": "code",
   "execution_count": 30,
   "metadata": {},
   "outputs": [
    {
     "name": "stdout",
     "output_type": "stream",
     "text": [
      "[0.0359121, 0.0718242, 0.10773630000000001, 0.1436484, 0.1795605, 0.21547260000000001]\n"
     ]
    }
   ],
   "source": [
    "Ep=[]\n",
    "for i in range(len(h)):\n",
    "    Ep.append(m_accmass*g*h[i])\n",
    "print(Ep)"
   ]
  },
  {
   "cell_type": "code",
   "execution_count": 31,
   "metadata": {},
   "outputs": [
    {
     "name": "stdout",
     "output_type": "stream",
     "text": [
      "[0.03239904353104926, 0.07634952283799844, 0.11252643011506992, 0.15053615618238986, 0.18373917436361709, 0.2180119861864128]\n"
     ]
    }
   ],
   "source": [
    "Ek_rot=[]\n",
    "for i in range(len(h)):\n",
    "    Ek_rot.append(0.5*I*w[i]**2)\n",
    "print(Ek_rot)"
   ]
  },
  {
   "cell_type": "code",
   "execution_count": 32,
   "metadata": {},
   "outputs": [
    {
     "name": "stdout",
     "output_type": "stream",
     "text": [
      "[4.5415675193337294e-05, 0.00010702368812381198, 0.00015773502066115705, 0.00021101552480958376, 0.00025755817930838017, 0.0003056004274758232]\n"
     ]
    }
   ],
   "source": [
    "Ek_trans=[]\n",
    "for i in range(len(h)):\n",
    "    Ek_trans.append(0.5*m_accmass*v[i]**2)\n",
    "print(Ek_trans)"
   ]
  },
  {
   "cell_type": "code",
   "execution_count": 37,
   "metadata": {},
   "outputs": [
    {
     "name": "stdout",
     "output_type": "stream",
     "text": [
      "[0.0324444592062426, 0.07645654652612224, 0.11268416513573108, 0.15074717170719945, 0.18399673254292548, 0.21831758661388861]\n"
     ]
    }
   ],
   "source": [
    "E=[]\n",
    "for i in range(len(h)):\n",
    "    E.append(Ek_rot[i]+Ek_trans[i])\n",
    "print(E)"
   ]
  },
  {
   "cell_type": "code",
   "execution_count": 46,
   "metadata": {},
   "outputs": [
    {
     "name": "stdout",
     "output_type": "stream",
     "text": [
      "[10.145744121774701, 6.24807553866229, 4.489478899052559, 4.822607667658637, 2.4404589681222624, 1.3116878627874025]\n"
     ]
    }
   ],
   "source": [
    "diff=[]\n",
    "for i in range(len(h)):\n",
    "    diff.append(np.absolute(Ep[i]-E[i])/np.mean([Ep[i],E[i]])*100)\n",
    "print(diff)"
   ]
  },
  {
   "cell_type": "code",
   "execution_count": 57,
   "metadata": {},
   "outputs": [
    {
     "data": {
      "image/png": "[encoded data removed]",
      "text/plain": [
       "<Figure size 432x288 with 1 Axes>"
      ]
     },
     "metadata": {},
     "output_type": "display_data"
    }
   ],
   "source": [
    "x=Ep\n",
    "y=E\n",
    "plt.plot(x,y,'o')\n",
    "plt.title('Lost Potential Energy vs Total Kinetic Energy Gained')\n",
    "plt.xlabel(\"Lost Potential Energy (J)\")\n",
    "plt.ylabel(\"Kinetic Energy Gained (J)\")\n",
    "plt.show()"
   ]
  },
  {
   "cell_type": "code",
   "execution_count": null,
   "metadata": {},
   "outputs": [],
   "source": []
  }
 ],
 "metadata": {
  "kernelspec": {
   "display_name": "Python 3",
   "language": "python",
   "name": "python3"
  },
  "language_info": {
   "codemirror_mode": {
    "name": "ipython",
    "version": 3
   },
   "file_extension": ".py",
   "mimetype": "text/x-python",
   "name": "python",
   "nbconvert_exporter": "python",
   "pygments_lexer": "ipython3",
   "version": "3.6.5"
  }
 },
 "nbformat": 4,
 "nbformat_minor": 2
}
