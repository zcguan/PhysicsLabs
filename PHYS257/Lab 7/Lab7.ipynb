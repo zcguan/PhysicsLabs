{
 "cells": [
  {
   "cell_type": "markdown",
   "metadata": {},
   "source": [
    "# Appendix A. Sample calculations"
   ]
  },
  {
   "cell_type": "code",
   "execution_count": 1,
   "metadata": {},
   "outputs": [],
   "source": [
    "import numpy as np\n",
    "import matplotlib.pyplot as plt"
   ]
  },
  {
   "cell_type": "code",
   "execution_count": 2,
   "metadata": {},
   "outputs": [],
   "source": [
    "#part 1\n",
    "#displacement\n",
    "d=[15.5*1000,\n",
    "  15.7*1000,\n",
    "  15.7*1000,\n",
    "  16.0*1000,\n",
    "  15.9*1000]\n",
    "\n",
    "#error in displacement\n",
    "e_d=0.5*1000\n",
    "\n",
    "#part 2\n",
    "#number of fringed counted\n",
    "N=[0]+[x for x in range(4,15,2)]\n",
    "\n",
    "#variation of pressure between counts\n",
    "dp=[0,\n",
    "   24-10,\n",
    "   32-10,\n",
    "   40-10,\n",
    "   48-10,\n",
    "   56-10,\n",
    "   64-10]\n",
    "\n",
    "#erro in pressure\n",
    "e_dp=1\n",
    "\n",
    "#length of vacuum cell\n",
    "l=3.0\n",
    "\n",
    "#atmospheric pressure\n",
    "p=76"
   ]
  },
  {
   "cell_type": "markdown",
   "metadata": {},
   "source": [
    "# part 1"
   ]
  },
  {
   "cell_type": "code",
   "execution_count": 3,
   "metadata": {},
   "outputs": [],
   "source": [
    "wavelength=lambda d: 2*d/50"
   ]
  },
  {
   "cell_type": "code",
   "execution_count": 4,
   "metadata": {},
   "outputs": [
    {
     "name": "stdout",
     "output_type": "stream",
     "text": [
      "[620.0, 628.0, 628.0, 640.0, 636.0]\n",
      "average lambda: 630.4 nm\n",
      "experimental uncertainty: 20.0\n",
      "standard deviation: 6.974238309665077\n",
      "standard error= 3.118974190338868\n",
      "experimentally determined wavelength: 630(3) nm\n",
      "percent error: 0.3792667509481633 %\n"
     ]
    }
   ],
   "source": [
    "#derived wavelengths\n",
    "wl=[]\n",
    "for i in range(len(d)):\n",
    "    wl.append(wavelength(d[i]))\n",
    "\n",
    "print(wl)\n",
    "print('average lambda:',np.mean(wl),'nm')\n",
    "\n",
    "#error propagation\n",
    "s_wl=2*e_d/50\n",
    "print('experimental uncertainty:',s_wl)\n",
    "\n",
    "s=np.std(wl)\n",
    "print('standard deviation:', s)\n",
    "print('standard error=',s/np.sqrt(len(wl)))\n",
    "\n",
    "print('experimentally determined wavelength: 630(3) nm')\n",
    "\n",
    "#accepted value of wavelength\n",
    "wl_ex=632.8\n",
    "\n",
    "#percent error\n",
    "diff_wl=np.abs(np.mean(wl)-wl_ex)/wl_ex*100\n",
    "print('percent error:',diff_wl,'%')"
   ]
  },
  {
   "cell_type": "markdown",
   "metadata": {},
   "source": [
    "# Part 2"
   ]
  },
  {
   "cell_type": "code",
   "execution_count": 22,
   "metadata": {},
   "outputs": [],
   "source": [
    "#defining useful function to do least-square fitting\n",
    "def delta(x):\n",
    "    return len(x)*sum(i*i for i in x)-(sum(x))**2\n",
    "def intercept(x,y,delta):\n",
    "    return ((sum(i*i for i in x))*sum(y)-sum(x)*sum(map(lambda a,b:a*b,x,y)))/delta\n",
    "def slope(x,y,delta):\n",
    "    return (len(x)*sum(map(lambda a,b:a*b,x,y))-sum(x)*sum(y))/delta\n",
    "def acu(y,m,x,c):\n",
    "    return np.sqrt((1/(len(x)-2))*sum(map(lambda a,b:(b-m*a-c)**2, x,y)))\n",
    "def am(acu,x,delta):\n",
    "    return acu*np.sqrt(len(x)/delta)\n",
    "def ac(acu,x,delta):\n",
    "    return acu*np.sqrt(sum(i*i for i in x)/delta)\n",
    "\n",
    "def aslope(n,p): #with function forced to b=0\n",
    "    return sum(map(lambda a,b: a*b, n,p))/sum(i*i for i in p)"
   ]
  },
  {
   "cell_type": "code",
   "execution_count": 24,
   "metadata": {},
   "outputs": [
    {
     "name": "stdout",
     "output_type": "stream",
     "text": [
      "14776\n",
      "slope: 0.25690308608554413\n",
      "intercept: 0.2273957769355712\n",
      "0.15079647772264818\n",
      "error in gradient: 0.003282175325658404\n",
      "error in the intercept: 0.11134545262349385\n",
      "0.26266137040714993\n"
     ]
    }
   ],
   "source": [
    "#calculating parameters and their errors\n",
    "dx=delta(dp)\n",
    "print(dx)\n",
    "m=slope(dp,N,dx)\n",
    "print('slope:',m)\n",
    "c=intercept(dp,N,dx)\n",
    "print('intercept:',c)\n",
    "cu=acu(N,m,dp,c)\n",
    "print(cu)\n",
    "error_slope=am(cu,dp,dx)\n",
    "print('error in gradient:',error_slope)\n",
    "error_intercept=ac(cu,dp,dx)\n",
    "print('error in the intercept:',error_intercept)\n",
    "\n",
    "mm=aslope(N,dp) #for b=0\n",
    "print(mm)"
   ]
  },
  {
   "cell_type": "code",
   "execution_count": 29,
   "metadata": {},
   "outputs": [
    {
     "name": "stdout",
     "output_type": "stream",
     "text": [
      "chi^2= 4.999999999999999\n"
     ]
    }
   ],
   "source": [
    "coef=[m,c]\n",
    "yfit=np.polyval(coef,dp) #fit line\n",
    "res=N-yfit #redisuals\n",
    "chi2=sum(i*i for i in res)/((1/(len(dp)-2))*sum(i*i for i in res))#chi square\n",
    "print('chi^2=',chi2)\n",
    "\n",
    "#for b=0\n",
    "ayfit=np.polyval([mm,0],dp)#[mm*i for i in dp]\n",
    "ares=N-ayfit"
   ]
  },
  {
   "cell_type": "code",
   "execution_count": 31,
   "metadata": {},
   "outputs": [
    {
     "data": {
      "image/png": "[encoded data removed]",
      "text/plain": [
       "<Figure size 432x288 with 2 Axes>"
      ]
     },
     "metadata": {},
     "output_type": "display_data"
    }
   ],
   "source": [
    "f,ax=plt.subplots(2,sharex=True)\n",
    "ax[0].errorbar(dp,N,xerr=[0]+([e_dp]*(len(dp)-1)),fmt='.k')\n",
    "ax[0].plot(dp,yfit,label='fit')\n",
    "ax[0].plot(dp,ayfit,'r-')#for b=0\n",
    "\n",
    "ax[1].plot(dp,res,'o')\n",
    "ax[1].plot(dp,[0]*len(dp),\":\")\n",
    "ax[1].plot(dp,ares,'r.')#for b=0\n",
    "\n",
    "ax[0].set_title('Number of fringes passed with respect to the change in pressure')\n",
    "plt.xlabel('pressure (cm of Hg)')\n",
    "ax[0].set_ylabel('number of fringes')\n",
    "ax[1].set_ylabel('number of fringes noise')\n",
    "ax[0].legend()\n",
    "plt.savefig('fig.jpg')\n",
    "plt.show()"
   ]
  },
  {
   "cell_type": "code",
   "execution_count": 9,
   "metadata": {},
   "outputs": [
    {
     "name": "stdout",
     "output_type": "stream",
     "text": [
      "experimental result= 1.0002059198123083\n",
      "uncertainty: 2.6308166916970746e-06\n",
      "refractive index of air at atmospheric pressure= 1.000205(3)\n",
      "percent error: 0.005706517954935016 %\n"
     ]
    }
   ],
   "source": [
    "#calculating experimental refractive index\n",
    "n=coef[0]*wl_ex/10**7/(2*l)*p+1\n",
    "print('experimental result=',n)\n",
    "\n",
    "#error propagation\n",
    "s_n=error_slope*wl_ex/10**7/(2*l)*p\n",
    "print('uncertainty:',s_n)\n",
    "\n",
    "#accepted value\n",
    "n_air=1.000263\n",
    "\n",
    "print('refractive index of air at atmospheric pressure= 1.000205(3)')\n",
    "\n",
    "#percent error\n",
    "diff_n=(np.abs(n-n_air))/n_air*100\n",
    "print('percent error:',diff_n,'%')"
   ]
  },
  {
   "cell_type": "code",
   "execution_count": 10,
   "metadata": {},
   "outputs": [
    {
     "name": "stdout",
     "output_type": "stream",
     "text": [
      "the accepted value of n is within 21.69675594339894 standard deviation\n",
      "relative uncertainty of n: 0.00026302750659491753 %\n"
     ]
    }
   ],
   "source": [
    "print('the accepted value of n is within',(n_air-n)/s_n,'standard deviation')\n",
    "print('relative uncertainty of n:',s_n/n*100,'%')"
   ]
  },
  {
   "cell_type": "code",
   "execution_count": null,
   "metadata": {},
   "outputs": [],
   "source": []
  }
 ],
 "metadata": {
  "kernelspec": {
   "display_name": "Python 3",
   "language": "python",
   "name": "python3"
  },
  "language_info": {
   "codemirror_mode": {
    "name": "ipython",
    "version": 3
   },
   "file_extension": ".py",
   "mimetype": "text/x-python",
   "name": "python",
   "nbconvert_exporter": "python",
   "pygments_lexer": "ipython3",
   "version": "3.6.5"
  }
 },
 "nbformat": 4,
 "nbformat_minor": 2
}
