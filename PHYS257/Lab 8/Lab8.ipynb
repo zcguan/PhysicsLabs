{
 "cells": [
  {
   "cell_type": "code",
   "execution_count": 1,
   "metadata": {},
   "outputs": [],
   "source": [
    "import numpy as np\n",
    "import matplotlib.pyplot as plt"
   ]
  },
  {
   "cell_type": "code",
   "execution_count": 2,
   "metadata": {},
   "outputs": [],
   "source": [
    "#part 1 data\n",
    "density= 300\n",
    "S=1/(density*(10**(-7)))\n",
    "e=0.5/60\n",
    "lbda=(5890+5896)/2\n",
    "sn0=66+11/60\n",
    "sn1=[76+10.5/60-sn0,sn0-56]\n",
    "sn2=[86+20/60-sn0,sn0-(45+16.5/60)]\n",
    "sn3=[96+58/60-sn0,sn0-(33+5/60)]\n",
    "sn=[sn1,sn2,sn3]\n",
    "\n",
    "#part 2 data\n",
    "w=66+10/60\n",
    "\n",
    "#yellow\n",
    "y1=[(76+5/60)-w,w-(56+4.5/60)]\n",
    "y2=[(86+16/60)-w,w-(46+6/60)]\n",
    "y3=[(97+15/60)-w,w-(35+20/60)]\n",
    "y=[y1,y2,y3]\n",
    "\n",
    "#green\n",
    "g1=[(76+30/60)-w,w-(56+52/60)]\n",
    "g2=[(85+4.5/60)-w,w-(46+21/60)]\n",
    "g3=[(95+17/60)-w,w-(35+16/60)]\n",
    "g=[g1,g2,g3]\n",
    "\n",
    "#blue\n",
    "b1=[(74+33/60)-w,w-(57+46/60)]\n",
    "b2=[(83+9/60)-w,w-(49+17/60)]\n",
    "b3=[(92+8.5/60)-w,w-(40+22/60)]\n",
    "b=[b1,b2,b3]\n",
    "\n",
    "#purple\n",
    "p1=[(73+36/60)-w,w-(58+45/60)]\n",
    "p2=[(81+10/60)-w,w-(51+17/60)]\n",
    "p3=[(89)-w,w-(43+24/60)]\n",
    "p=[p1,p2,p3]\n",
    "\n",
    "#red\n",
    "r=[(76+49/60)-w,w-(55+31/60)]"
   ]
  },
  {
   "cell_type": "markdown",
   "metadata": {},
   "source": [
    "# 1. Calibration of the grating"
   ]
  },
  {
   "cell_type": "code",
   "execution_count": 22,
   "metadata": {},
   "outputs": [],
   "source": [
    "def s(theta):\n",
    "    r=[]\n",
    "    for i in range(len(theta)):\n",
    "        r.append((i+1)*lbda/np.sin(theta[i]))\n",
    "    return r\n",
    "\n",
    "def wl(theta):\n",
    "    r=[]\n",
    "    for i in range(len(theta)):\n",
    "        r.append(S*np.sin(theta[i])/(i+1))\n",
    "    return r"
   ]
  },
  {
   "cell_type": "code",
   "execution_count": 31,
   "metadata": {},
   "outputs": [
    {
     "name": "stdout",
     "output_type": "stream",
     "text": [
      "average angle at each n:  [0.17606009 0.35830155 0.55748725]\n",
      "33556.60450858352 angstrom\n",
      "standard deviation: 100.42804727203479\n",
      "error: 57.98216012669775\n",
      "\n",
      "accepted value: 300 slits/mm\n",
      "experimental density: 298.00392937378626 slits/mm\n",
      "error: 0.5149183537600233\n",
      "\n",
      "density is determined to be 298.0(5) slits/mm\n",
      "\n",
      "percent error: 0.6653568754045788 %\n",
      "within 3.876479856734727 sigma\n"
     ]
    }
   ],
   "source": [
    "snmean=np.radians([np.mean(i) for i in sn])\n",
    "print('average angle at each n: ',snmean)\n",
    "\n",
    "sexp=np.mean(s(snmean))\n",
    "print(sexp,'angstrom')\n",
    "\n",
    "stds=np.std(s(snmean))\n",
    "print('standard deviation:',stds)\n",
    "es=stds/np.sqrt(len(s(snmean)))\n",
    "print('error:',es)\n",
    "\n",
    "print('\\naccepted value:',density,'slits/mm')\n",
    "dexp=1/(sexp*10**(-7))\n",
    "print('experimental density:',dexp,'slits/mm')\n",
    "\n",
    "edexp=es/((sexp**2)*10**(-7))\n",
    "print('error:',edexp)\n",
    "\n",
    "print('\\ndensity is determined to be 298.0(5) slits/mm')\n",
    "\n",
    "derror=(density-dexp)/density*100\n",
    "print('\\npercent error:', derror,'%')\n",
    "print('within',(density-dexp)/edexp,'sigma')"
   ]
  },
  {
   "cell_type": "markdown",
   "metadata": {},
   "source": [
    "# 2. The emission spectrum of a Mercury-vapour lamp"
   ]
  },
  {
   "cell_type": "code",
   "execution_count": 32,
   "metadata": {},
   "outputs": [
    {
     "name": "stdout",
     "output_type": "stream",
     "text": [
      "Yellow\n",
      "accepted value: 5770 angstrom\n",
      "wavelength: 5743.161982880648 angstrom\n",
      "standard deviation: 33.7212998248082\n",
      "error: 19.469001531277094\n",
      "\n",
      "wavelength-yellow is 5740(20) angstrom\n",
      "percent error: 0.46513027936485474 %\n",
      "within 1.3784999233903519 sigmas\n"
     ]
    }
   ],
   "source": [
    "print('Yellow')\n",
    "print('accepted value: 5770 angstrom')\n",
    "ymean=np.radians([np.mean(i) for i in y])\n",
    "wly=np.mean(wl(ymean))\n",
    "print('wavelength:',wly,'angstrom')\n",
    "\n",
    "stdy=np.std(wl(ymean))\n",
    "print('standard deviation:',stdy)\n",
    "ey=stdy/np.sqrt(len(wl(ymean)))\n",
    "print('error:',ey)\n",
    "print('\\nwavelength-yellow is 5740(20) angstrom')\n",
    "\n",
    "print('percent error:',(5770-wly)/5770*100,'%')\n",
    "\n",
    "print('within',(5770-wly)/ey,'sigmas')"
   ]
  },
  {
   "cell_type": "code",
   "execution_count": 25,
   "metadata": {},
   "outputs": [
    {
     "name": "stdout",
     "output_type": "stream",
     "text": [
      "Green\n",
      "accepted value: 5461 angstrom\n",
      "wavelength: 5588.629422203391 angstrom\n",
      "standard deviation: 68.07891048522241\n",
      "error: 39.305377294779596\n",
      "\n",
      "wavelength-green is 5590(40) angstrom\n",
      "\n",
      "percent error: 2.3371071635852623 %\n",
      "within 3.2471237013247674 sigmas\n"
     ]
    }
   ],
   "source": [
    "print('Green')\n",
    "print('accepted value: 5461 angstrom')\n",
    "gmean=np.radians([np.mean(i) for i in g])\n",
    "wlg=np.mean(wl(gmean))\n",
    "print('wavelength:',wlg,'angstrom')\n",
    "\n",
    "stdg=np.std(wl(gmean))\n",
    "print('standard deviation:',stdg)\n",
    "eg=stdg/np.sqrt(len(wl(gmean)))\n",
    "print('error:',eg)\n",
    "print('\\nwavelength-green is 5590(40) angstrom')\n",
    "\n",
    "print('\\npercent error:',(wlg-5461)/5461*100,'%')\n",
    "\n",
    "print('within',(wlg-5461)/eg,'sigmas')"
   ]
  },
  {
   "cell_type": "code",
   "execution_count": 186,
   "metadata": {},
   "outputs": [
    {
     "name": "stdout",
     "output_type": "stream",
     "text": [
      "Blue\n",
      "accepted value: 5025\n",
      "wavelength: 4856.707957050992 angstrom\n",
      "standard deviation: 5.7521911500820275\n",
      "error: 3.3210291089300417\n",
      "\n",
      "wavelength-blue is 4857(3) angstrom\n",
      "\n",
      "percent error: 3.3490953820698053 %\n",
      "within 50.67466662561941 sigmas\n"
     ]
    }
   ],
   "source": [
    "print('Blue')\n",
    "print('accepted value: 5025')\n",
    "bmean=np.radians([np.mean(i) for i in b])\n",
    "wlb=np.mean(wl(bmean))\n",
    "print('wavelength:',wlb,'angstrom')\n",
    "\n",
    "stdb=np.std(wl(bmean))\n",
    "print('standard deviation:',stdb)\n",
    "eb=stdb/np.sqrt(len(wl(bmean)))\n",
    "print('error:',eb)\n",
    "print('\\nwavelength-blue is 4857(3) angstrom')\n",
    "\n",
    "print('\\npercent error:',(5025-wlb)/5025*100,'%')\n",
    "\n",
    "print('within',(5025-wlb)/eb,'sigmas')"
   ]
  },
  {
   "cell_type": "code",
   "execution_count": 187,
   "metadata": {},
   "outputs": [
    {
     "name": "stdout",
     "output_type": "stream",
     "text": [
      "Purple\n",
      "accepted value: 4358\n",
      "wavelength: 4303.532127051238 angstrom\n",
      "standard deviation: 4.502266378789792\n",
      "error: 2.599384705757688\n",
      "\n",
      "wavelength-purple is 4304(3) angstrom\n",
      "\n",
      "percent error: 1.2498364605039538 %\n",
      "within 20.954140734965048 sigmas\n"
     ]
    }
   ],
   "source": [
    "print('Purple')\n",
    "print('accepted value: 4358')\n",
    "pmean=np.radians([np.mean(i) for i in p])\n",
    "wlp=np.mean(wl(pmean))\n",
    "print('wavelength:',wlp,'angstrom')\n",
    "\n",
    "stdp=np.std(wl(pmean))\n",
    "print('standard deviation:',stdp)\n",
    "ep=stdp/np.sqrt(len(wl(pmean)))\n",
    "print('error:',ep)\n",
    "print('\\nwavelength-purple is 4304(3) angstrom')\n",
    "\n",
    "print('\\npercent error:',(4358-wlp)/4358*100,'%')\n",
    "\n",
    "print('within',(4358-wlp)/ep,'sigmas')"
   ]
  },
  {
   "cell_type": "code",
   "execution_count": 190,
   "metadata": {},
   "outputs": [
    {
     "name": "stdout",
     "output_type": "stream",
     "text": [
      "Red\n",
      "accepted value: 6234\n",
      "wavelength: 6160.301778973849 angstrom\n",
      "\n",
      "percent error: 1.182197963204223 %\n"
     ]
    }
   ],
   "source": [
    "print('Red')\n",
    "print('accepted value: 6234')\n",
    "rmean=np.radians([np.mean(r)])\n",
    "wlr=np.mean(wl(rmean))\n",
    "print('wavelength:',wlr,'angstrom')\n",
    "print('\\npercent error:',(6234-wlr)/6234*100,'%')"
   ]
  },
  {
   "cell_type": "code",
   "execution_count": null,
   "metadata": {},
   "outputs": [],
   "source": []
  }
 ],
 "metadata": {
  "kernelspec": {
   "display_name": "Python 3",
   "language": "python",
   "name": "python3"
  },
  "language_info": {
   "codemirror_mode": {
    "name": "ipython",
    "version": 3
   },
   "file_extension": ".py",
   "mimetype": "text/x-python",
   "name": "python",
   "nbconvert_exporter": "python",
   "pygments_lexer": "ipython3",
   "version": "3.6.5"
  }
 },
 "nbformat": 4,
 "nbformat_minor": 2
}
